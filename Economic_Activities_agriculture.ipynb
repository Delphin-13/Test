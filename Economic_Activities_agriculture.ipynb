{
 "cells": [
  {
   "cell_type": "code",
   "execution_count": 5,
   "id": "d45100c0",
   "metadata": {},
   "outputs": [],
   "source": [
    "import matplotlib.pyplot as plt\n",
    "import numpy as np\n",
    "import dash\n",
    "import dash_core_components as dcc\n",
    "import dash_html_components as html\n",
    "from dash.dependencies import Input, Output\n",
    "import plotly.express as px\n",
    "import pandas as pd\n",
    "from matplotlib.ticker import FuncFormatter"
   ]
  },
  {
   "cell_type": "code",
   "execution_count": 6,
   "id": "2d826358",
   "metadata": {},
   "outputs": [],
   "source": [
    "Econoagri= pd.read_excel(r'C:\\Users\\higan\\Econoagri.xlsx')"
   ]
  },
  {
   "cell_type": "code",
   "execution_count": 7,
   "id": "9c74c8b8",
   "metadata": {},
   "outputs": [
    {
     "data": {
      "text/html": [
       "\n",
       "        <iframe\n",
       "            width=\"100%\"\n",
       "            height=\"650\"\n",
       "            src=\"http://127.0.0.1:8030/\"\n",
       "            frameborder=\"0\"\n",
       "            allowfullscreen\n",
       "            \n",
       "        ></iframe>\n",
       "        "
      ],
      "text/plain": [
       "<IPython.lib.display.IFrame at 0x2616e7b9f50>"
      ]
     },
     "metadata": {},
     "output_type": "display_data"
    }
   ],
   "source": [
    "# Create Dash app\n",
    "app = dash.Dash(__name__)\n",
    "\n",
    "# Layout of the app\n",
    "app.layout = html.Div([\n",
    "    dcc.Graph(\n",
    "        id='horizontal-bar-chart',\n",
    "        figure=px.bar(\n",
    "            Econoagri,\n",
    "            y='Economic Activities',\n",
    "            x=['In agriculture', 'Not in agriculture'],\n",
    "            orientation='h',\n",
    "            labels={'value': 'Employed Population'},\n",
    "            title='Employed Population Distribution Across Economic Activities with a Focus on Agriculture',\n",
    "            hover_data={'value': ':,.0f'},\n",
    "        ).update_layout(\n",
    "            legend_title_text=''  # Change 'Your New Legend Title' to your desired title\n",
    "        )\n",
    "    ),\n",
    "])    \n",
    "        \n",
    "\n",
    "# Run the app\n",
    "if __name__ == '__main__':\n",
    "    app.run_server(debug=True, port=8030)\n"
   ]
  },
  {
   "cell_type": "code",
   "execution_count": null,
   "id": "29d39e3f",
   "metadata": {},
   "outputs": [],
   "source": []
  }
 ],
 "metadata": {
  "kernelspec": {
   "display_name": "Python 3 (ipykernel)",
   "language": "python",
   "name": "python3"
  },
  "language_info": {
   "codemirror_mode": {
    "name": "ipython",
    "version": 3
   },
   "file_extension": ".py",
   "mimetype": "text/x-python",
   "name": "python",
   "nbconvert_exporter": "python",
   "pygments_lexer": "ipython3",
   "version": "3.11.5"
  }
 },
 "nbformat": 4,
 "nbformat_minor": 5
}
