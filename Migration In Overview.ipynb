{
 "cells": [
  {
   "cell_type": "code",
   "execution_count": 10,
   "id": "1e4ba8aa",
   "metadata": {},
   "outputs": [
    {
     "name": "stderr",
     "output_type": "stream",
     "text": [
      "C:\\Users\\higan\\AppData\\Local\\Temp\\ipykernel_6260\\4063995388.py:4: UserWarning:\n",
      "\n",
      "\n",
      "The dash_core_components package is deprecated. Please replace\n",
      "`import dash_core_components as dcc` with `from dash import dcc`\n",
      "\n",
      "C:\\Users\\higan\\AppData\\Local\\Temp\\ipykernel_6260\\4063995388.py:5: UserWarning:\n",
      "\n",
      "\n",
      "The dash_html_components package is deprecated. Please replace\n",
      "`import dash_html_components as html` with `from dash import html`\n",
      "\n"
     ]
    }
   ],
   "source": [
    "import matplotlib.pyplot as plt\n",
    "import numpy as np\n",
    "import dash\n",
    "import dash_core_components as dcc\n",
    "import dash_html_components as html\n",
    "from dash.dependencies import Input, Output\n",
    "import plotly.express as px\n",
    "import pandas as pd\n",
    "from matplotlib.ticker import FuncFormatter\n",
    "from dash import dcc, html\n",
    "\n",
    "\n"
   ]
  },
  {
   "cell_type": "code",
   "execution_count": 11,
   "id": "89e68775",
   "metadata": {},
   "outputs": [],
   "source": [
    "Migrants = pd.read_excel(r'C:\\Users\\higan\\Migrants.xlsx')\n",
    "Internal_migrants = pd.read_excel(r'C:\\Users\\higan\\Internal_migrants.xlsx')\n",
    "International_migrants = pd.read_excel(r'C:\\Users\\higan\\International_migrants.xlsx')\n"
   ]
  },
  {
   "cell_type": "code",
   "execution_count": 12,
   "id": "5be2e8c2",
   "metadata": {},
   "outputs": [
    {
     "data": {
      "text/html": [
       "\n",
       "        <iframe\n",
       "            width=\"100%\"\n",
       "            height=\"650\"\n",
       "            src=\"http://127.0.0.1:8040/\"\n",
       "            frameborder=\"0\"\n",
       "            allowfullscreen\n",
       "            \n",
       "        ></iframe>\n",
       "        "
      ],
      "text/plain": [
       "<IPython.lib.display.IFrame at 0x289594307d0>"
      ]
     },
     "metadata": {},
     "output_type": "display_data"
    }
   ],
   "source": [
    "# Create the Dash app\n",
    "app = dash.Dash(__name__)\n",
    "\n",
    "# Layout of the app\n",
    "app.layout = html.Div([\n",
    "    dcc.Dropdown(\n",
    "        id='dataset-dropdown',\n",
    "        options=[\n",
    "            {'label': 'Migrants', 'value': 'Migrants'},\n",
    "            {'label': 'Internal migrants', 'value': 'Internal migrants'},\n",
    "            {'label': 'International migrants', 'value': 'International migrants'}\n",
    "        ],\n",
    "        value='Migrants',\n",
    "        style={'width': '50%'}\n",
    "    ),\n",
    "    dcc.Graph(id='horizontal-bar-chart'),\n",
    "])\n",
    "\n",
    "# Callback to update the graph based on the selected dataset\n",
    "@app.callback(\n",
    "    Output('horizontal-bar-chart', 'figure'),\n",
    "    [Input('dataset-dropdown', 'value')]\n",
    ")\n",
    "def update_graph(selected_dataset):\n",
    "    if selected_dataset == 'Migrants':\n",
    "        migri = Migrants\n",
    "    elif selected_dataset == 'Internal migrants':\n",
    "        migri = Internal_migrants\n",
    "    elif selected_dataset == 'International migrants':\n",
    "        migri = International_migrants\n",
    "\n",
    "    figure = {\n",
    "        'data': [\n",
    "            {'y': migri['Reasons'], 'x': migri['Employed'], 'type': 'bar', 'name': 'Employed', 'orientation': 'h'},\n",
    "            {'y': migri['Reasons'], 'x': migri['Unemployed'], 'type': 'bar', 'name': 'Unemployed', 'orientation': 'h'},\n",
    "            {'y': migri['Reasons'], 'x': migri['Outside Labour Force'], 'type': 'bar', 'name': 'Outside Labour Force', 'orientation': 'h'}\n",
    "        ],\n",
    "        'layout': {\n",
    "            'title': f'{selected_dataset} Distribution with reasons',\n",
    "            'barmode': 'group',\n",
    "            'hovermode': 'closest',\n",
    "            'yaxis': {'title': '', 'tickfont': {'size': 6}, 'fontcolor': 'black'},\n",
    "            'xaxis': {'title': 'Population'},\n",
    "            'hoverlabel': {'bgcolor': 'white'},\n",
    "            'legend': {'x': 1, 'y': 1.0}\n",
    "        }\n",
    "    }\n",
    "\n",
    "    return figure\n",
    "\n",
    "# Run the app\n",
    "if __name__ == '__main__':\n",
    "    app.run_server(debug=True, port= 8040)\n"
   ]
  },
  {
   "cell_type": "code",
   "execution_count": null,
   "id": "d25a6566",
   "metadata": {},
   "outputs": [],
   "source": []
  }
 ],
 "metadata": {
  "kernelspec": {
   "display_name": "Python 3 (ipykernel)",
   "language": "python",
   "name": "python3"
  },
  "language_info": {
   "codemirror_mode": {
    "name": "ipython",
    "version": 3
   },
   "file_extension": ".py",
   "mimetype": "text/x-python",
   "name": "python",
   "nbconvert_exporter": "python",
   "pygments_lexer": "ipython3",
   "version": "3.11.5"
  }
 },
 "nbformat": 4,
 "nbformat_minor": 5
}
